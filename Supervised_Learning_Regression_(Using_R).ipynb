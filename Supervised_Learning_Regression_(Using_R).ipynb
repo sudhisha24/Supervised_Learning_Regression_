{
  "nbformat": 4,
  "nbformat_minor": 0,
  "metadata": {
    "colab": {
      "name": "Supervised Learning - Regression (Using R).ipynb",
      "provenance": []
    },
    "kernelspec": {
      "name": "python3",
      "display_name": "Python 3"
    },
    "language_info": {
      "name": "python"
    }
  },
  "cells": [
    {
      "cell_type": "code",
      "metadata": {
        "colab": {
          "base_uri": "https://localhost:8080/"
        },
        "id": "C_cgrYolbBjo",
        "outputId": "542c4493-413e-4ce1-ac63-c8fd9e989160"
      },
      "source": [
        "import matplotlib.pyplot as plt \n",
        "import numpy as np\n",
        "import pandas as pd \n",
        "data=pd.read_csv(\"/content/temperatures.csv\")\n",
        "print(data)"
      ],
      "execution_count": null,
      "outputs": [
        {
          "output_type": "stream",
          "name": "stdout",
          "text": [
            "     YEAR    JAN    FEB    MAR  ...  JAN-FEB  MAR-MAY  JUN-SEP  OCT-DEC\n",
            "0    1901  22.40  24.14  29.07  ...    23.27    31.46    31.27    27.25\n",
            "1    1902  24.93  26.58  29.77  ...    25.75    31.76    31.09    26.49\n",
            "2    1903  23.44  25.03  27.83  ...    24.24    30.71    30.92    26.26\n",
            "3    1904  22.50  24.73  28.21  ...    23.62    30.95    30.66    26.40\n",
            "4    1905  22.00  22.83  26.68  ...    22.25    30.00    31.33    26.57\n",
            "..    ...    ...    ...    ...  ...      ...      ...      ...      ...\n",
            "112  2013  24.56  26.59  30.62  ...    25.58    32.58    31.33    27.83\n",
            "113  2014  23.83  25.97  28.95  ...    24.90    31.82    32.00    27.81\n",
            "114  2015  24.58  26.89  29.07  ...    25.74    31.68    31.87    28.27\n",
            "115  2016  26.94  29.72  32.62  ...    28.33    34.57    32.28    30.03\n",
            "116  2017  26.45  29.46  31.60  ...    27.95    34.13    32.41    29.69\n",
            "\n",
            "[117 rows x 18 columns]\n"
          ]
        }
      ]
    },
    {
      "cell_type": "code",
      "metadata": {
        "colab": {
          "base_uri": "https://localhost:8080/"
        },
        "id": "wkSAwqDhbPxb",
        "outputId": "0032bb7a-ee6c-4e0e-bd6c-a68eaa41d4e4"
      },
      "source": [
        "X_train =data[:93]\n",
        "X_test =data[94:]\n",
        "print(\"Training Data Set : \") \n",
        "print(X_train)\n",
        "print(\"Testing Data Set : \") \n",
        "print(X_test)"
      ],
      "execution_count": null,
      "outputs": [
        {
          "output_type": "stream",
          "name": "stdout",
          "text": [
            "Training Data Set : \n",
            "    YEAR    JAN    FEB    MAR  ...  JAN-FEB  MAR-MAY  JUN-SEP  OCT-DEC\n",
            "0   1901  22.40  24.14  29.07  ...    23.27    31.46    31.27    27.25\n",
            "1   1902  24.93  26.58  29.77  ...    25.75    31.76    31.09    26.49\n",
            "2   1903  23.44  25.03  27.83  ...    24.24    30.71    30.92    26.26\n",
            "3   1904  22.50  24.73  28.21  ...    23.62    30.95    30.66    26.40\n",
            "4   1905  22.00  22.83  26.68  ...    22.25    30.00    31.33    26.57\n",
            "..   ...    ...    ...    ...  ...      ...      ...      ...      ...\n",
            "88  1989  23.22  25.79  28.75  ...    24.51    31.35    31.11    27.57\n",
            "89  1990  24.24  25.75  28.25  ...    25.00    30.84    31.18    27.50\n",
            "90  1991  23.31  26.17  29.31  ...    24.74    31.46    31.45    27.40\n",
            "91  1992  23.84  25.35  28.89  ...    24.60    31.32    31.28    27.49\n",
            "92  1993  23.82  26.79  28.37  ...    25.31    31.61    31.47    27.74\n",
            "\n",
            "[93 rows x 18 columns]\n",
            "Testing Data Set : \n",
            "     YEAR    JAN    FEB    MAR  ...  JAN-FEB  MAR-MAY  JUN-SEP  OCT-DEC\n",
            "94   1995  24.44  26.93  29.92  ...    25.68    32.40    32.01    28.52\n",
            "95   1996  25.18  27.40  30.86  ...    26.30    32.07    31.19    27.29\n",
            "96   1997  23.30  25.96  29.44  ...    24.63    31.26    31.77    26.65\n",
            "97   1998  23.95  25.97  28.56  ...    24.96    31.89    31.75    27.83\n",
            "98   1999  23.57  26.75  30.32  ...    25.16    32.45    31.55    27.95\n",
            "99   2000  24.44  25.20  29.27  ...    24.82    32.22    31.25    28.53\n",
            "100  2001  24.36  27.40  30.32  ...    25.88    32.61    31.62    28.13\n",
            "101  2002  24.56  26.18  30.59  ...    25.37    33.06    32.02    28.36\n",
            "102  2003  24.27  26.36  29.13  ...    25.32    32.05    31.72    27.70\n",
            "103  2004  23.89  27.05  32.33  ...    25.47    32.69    31.42    27.65\n",
            "104  2005  24.18  25.74  29.50  ...    24.96    31.81    31.84    27.50\n",
            "105  2006  25.66  29.33  29.56  ...    27.44    32.08    31.39    27.78\n",
            "106  2007  25.19  26.28  29.33  ...    25.73    32.32    31.40    28.03\n",
            "107  2008  23.97  25.48  30.34  ...    24.72    32.11    31.25    28.29\n",
            "108  2009  25.27  27.75  30.57  ...    26.51    32.57    32.24    27.96\n",
            "109  2010  24.89  27.03  31.94  ...    25.96    33.47    31.43    27.78\n",
            "110  2011  24.18  26.47  30.17  ...    25.33    32.07    31.55    28.23\n",
            "111  2012  23.61  26.44  30.20  ...    25.03    32.33    31.77    27.88\n",
            "112  2013  24.56  26.59  30.62  ...    25.58    32.58    31.33    27.83\n",
            "113  2014  23.83  25.97  28.95  ...    24.90    31.82    32.00    27.81\n",
            "114  2015  24.58  26.89  29.07  ...    25.74    31.68    31.87    28.27\n",
            "115  2016  26.94  29.72  32.62  ...    28.33    34.57    32.28    30.03\n",
            "116  2017  26.45  29.46  31.60  ...    27.95    34.13    32.41    29.69\n",
            "\n",
            "[23 rows x 18 columns]\n"
          ]
        }
      ]
    },
    {
      "cell_type": "code",
      "metadata": {
        "id": "xn8tWOOPbUDW"
      },
      "source": [
        "X = X_train['JAN'].values\n",
        "Y = X_train['ANNUAL'].values \n",
        "mean_x = np.mean(X)\n",
        "mean_y = np.mean(Y) "
      ],
      "execution_count": null,
      "outputs": []
    },
    {
      "cell_type": "code",
      "metadata": {
        "colab": {
          "base_uri": "https://localhost:8080/"
        },
        "id": "OTXRvbO7bWmi",
        "outputId": "04d1d41a-e233-473b-8ed7-cdedfb22ad70"
      },
      "source": [
        "print(\"The Mean Of X : \") \n",
        "print(mean_x) \n",
        "print(\"The Mean Of Y : \") \n",
        "print(mean_y)"
      ],
      "execution_count": null,
      "outputs": [
        {
          "output_type": "stream",
          "name": "stdout",
          "text": [
            "The Mean Of X : \n",
            "23.456881720430104\n",
            "The Mean Of Y : \n",
            "28.981182795698924\n"
          ]
        }
      ]
    },
    {
      "cell_type": "code",
      "metadata": {
        "colab": {
          "base_uri": "https://localhost:8080/"
        },
        "id": "uYKoCVbxbYyJ",
        "outputId": "5811f12d-b2fa-44e8-b25d-1b3542af676c"
      },
      "source": [
        "m = len(X)\n",
        "print(\"Samples :: Training Set\") \n",
        "print(m)\n",
        "numer = 0\n",
        "denom = 0\n",
        "for i in range(m):\n",
        "  numer += (X[i] - mean_x) * (Y[i] - mean_y) \n",
        "  denom += (X[i] - mean_x) ** 2\n",
        "b1 = numer / denom\n",
        "b0 = mean_y - (b1 * mean_x) \n",
        "print(\"Coefficient And Bias \") \n",
        "print(b1, b0)"
      ],
      "execution_count": null,
      "outputs": [
        {
          "output_type": "stream",
          "name": "stdout",
          "text": [
            "Samples :: Training Set\n",
            "93\n",
            "Coefficient And Bias \n",
            "0.2628227811176039 22.8161799055888\n"
          ]
        }
      ]
    },
    {
      "cell_type": "code",
      "metadata": {
        "id": "oLNTXuz-bblb"
      },
      "source": [
        "max_x = np.max(X)\n",
        "min_x = np.min(X)\n",
        "x = np.linspace(min_x, max_x)\n",
        "y = b0 + b1 * x"
      ],
      "execution_count": null,
      "outputs": []
    },
    {
      "cell_type": "code",
      "metadata": {
        "colab": {
          "base_uri": "https://localhost:8080/",
          "height": 283
        },
        "id": "TscES3_yhT3k",
        "outputId": "9cdb678a-bbc1-45aa-e3ce-80e41be70689"
      },
      "source": [
        "plt.plot(x, y, color='Red', label='Regression Line') \n",
        "plt.scatter(X, Y, c='Orange', label='Scatter Plot headsize vs brain wt')\n",
        "plt.xlabel('JAN') \n",
        "plt.ylabel('ANNUAL') \n",
        "plt.legend()\n",
        "plt.show()"
      ],
      "execution_count": null,
      "outputs": [
        {
          "output_type": "display_data",
          "data": {
            "image/png": "[encoded data removed]",
            "text/plain": [
              "<Figure size 432x288 with 1 Axes>"
            ]
          },
          "metadata": {
            "needs_background": "light"
          }
        }
      ]
    },
    {
      "cell_type": "code",
      "metadata": {
        "colab": {
          "base_uri": "https://localhost:8080/"
        },
        "id": "Ycdyx5l_bd9-",
        "outputId": "f6639654-c252-408b-c48c-d326e968b4d0"
      },
      "source": [
        "sse = 0\n",
        "for i in range(m):\n",
        "  y_pred = b0 + b1 * X[i] \n",
        "sse += (Y[i] - y_pred)  \n",
        "print(\"Mean Sqaure Error Of Brain wt Of Train Data : \",sse) \n",
        "mse = sse/m\n",
        "rmse = np.sqrt(mse)\n",
        "print(\"Root Mean Sqaure Error Is : \",rmse)"
      ],
      "execution_count": null,
      "outputs": [
        {
          "output_type": "stream",
          "name": "stdout",
          "text": [
            "Mean Sqaure Error Of Brain wt Of Train Data :  0.47338144818987615\n",
            "Root Mean Sqaure Error Is :  0.0713450986320425\n"
          ]
        }
      ]
    },
    {
      "cell_type": "code",
      "metadata": {
        "colab": {
          "base_uri": "https://localhost:8080/"
        },
        "id": "EMWIi5QRbgCA",
        "outputId": "7ffe090e-852c-48a8-e78c-148279aaace3"
      },
      "source": [
        "ss_t = 0\n",
        "ss_r = 0\n",
        "for i in range(m):\n",
        "  y_pred = b0 + b1 * X[i]\n",
        "ss_t += (Y[i] - mean_y) ** 2 \n",
        "ss_r += (Y[i] - y_pred) ** 2\n",
        "scorer2 = 1 - (ss_r/ss_t)\n",
        "print(\"R^2 Score For Training Data Is : \",scorer2)"
      ],
      "execution_count": null,
      "outputs": [
        {
          "output_type": "stream",
          "name": "stdout",
          "text": [
            "R^2 Score For Training Data Is :  0.3074087174517032\n"
          ]
        }
      ]
    }
  ]
}